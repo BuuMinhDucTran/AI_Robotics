{
  "cells": [
    {
      "cell_type": "markdown",
      "metadata": {
        "id": "view-in-github",
        "colab_type": "text"
      },
      "source": [
        "<a href=\"https://colab.research.google.com/github/BuuMinhDucTran/AI_Robotics/blob/main/robot_2dof.ipynb\" target=\"_parent\"><img src=\"https://colab.research.google.com/assets/colab-badge.svg\" alt=\"Open In Colab\"/></a>"
      ]
    },
    {
      "cell_type": "markdown",
      "metadata": {
        "id": "Oi8ww2GTQzfz"
      },
      "source": [
        "Import Library"
      ]
    },
    {
      "cell_type": "code",
      "execution_count": null,
      "metadata": {
        "id": "vPWFmU1bQdXB"
      },
      "outputs": [],
      "source": [
        "from re import U\n",
        "import matplotlib.pyplot as plt\n",
        "from math import sin, cos, radians\n",
        "import csv\n",
        "import numpy as np\n",
        "import pandas as pd\n",
        "from keras.layers import Dense,Dropout\n",
        "from sklearn.linear_model import Perceptron\n",
        "from sklearn.model_selection import train_test_split\n",
        "from sklearn.metrics import accuracy_score\n",
        "import tensorflow as tf\n",
        "from tensorflow.keras.optimizers import Adam\n",
        "import keras \n",
        "from keras.models import Sequential\n",
        "from tensorflow.keras.optimizers import RMSprop"
      ]
    },
    {
      "cell_type": "markdown",
      "metadata": {
        "id": "n7-0DWajQ8Au"
      },
      "source": [
        "Create data for file csv"
      ]
    },
    {
      "cell_type": "code",
      "execution_count": null,
      "metadata": {
        "id": "1c7tbWQgQ7uM"
      },
      "outputs": [],
      "source": [
        "u =[]\n",
        "for i in range(0,181,1):\n",
        "  z=[]\n",
        "  for j in range(0,181,1):\n",
        "    Px=50*cos(radians(i))+40*cos(radians(i+j))\n",
        "    Py=50*sin(radians(i))+40*sin(radians(i+j))\n",
        "    z.append(np.array((i,j,Px,Py)))\n",
        "  u.extend(z)"
      ]
    },
    {
      "cell_type": "markdown",
      "metadata": {
        "id": "c1bg6oIeXkLn"
      },
      "source": [
        "Create file"
      ]
    },
    {
      "cell_type": "code",
      "execution_count": null,
      "metadata": {
        "id": "V-aQV95jS52h"
      },
      "outputs": [],
      "source": [
        "header = ['alpha', 'beta', 'Px', 'Py']\n",
        "#header = [ 'x', 'y']\n",
        "with open('robot_2dof.csv', 'w', encoding='UTF8', newline='') as f:\n",
        "    writer = csv.writer(f)\n",
        "\n",
        "    # write the header\n",
        "    writer.writerow(header)\n",
        "\n",
        "    # write multiple rows\n",
        "    writer.writerows(u)"
      ]
    },
    {
      "cell_type": "code",
      "execution_count": null,
      "metadata": {
        "colab": {
          "base_uri": "https://localhost:8080/"
        },
        "id": "4IBaDQ6AXzgD",
        "outputId": "1c22e4da-5b1e-4135-9223-6dbd71912d71"
      },
      "outputs": [
        {
          "output_type": "stream",
          "name": "stdout",
          "text": [
            "[0.87238258 0.8223133 ]\n",
            "[0.58888889 0.55555556]\n"
          ]
        }
      ],
      "source": [
        "data = pd.read_csv('robot_2dof.csv')\n",
        "data.shape\n",
        "numpy_dataset = data.values\n",
        "y=numpy_dataset[:,:2]\n",
        "x=numpy_dataset[:,2:]\n",
        "x=(x+90)/180\n",
        "y=(y+180)/360\n",
        "x_train,x_test,y_train,y_test = train_test_split(x,y,test_size=0.20)\n",
        "print(x_train[0])\n",
        "print(y_train[0])"
      ]
    },
    {
      "cell_type": "code",
      "execution_count": null,
      "metadata": {
        "colab": {
          "base_uri": "https://localhost:8080/"
        },
        "id": "XOgPB003YCrk",
        "outputId": "f316b11c-2071-46e2-e2a3-67e21c0eece7"
      },
      "outputs": [
        {
          "name": "stdout",
          "output_type": "stream",
          "text": [
            "[[0.11486743 0.32017782]\n",
            " [0.4156517  0.56458896]\n",
            " [0.4048261  0.5084116 ]\n",
            " ...\n",
            " [0.8823711  0.7971755 ]\n",
            " [0.36419043 0.6791407 ]\n",
            " [0.08693026 0.3539222 ]]\n",
            "(26208, 2)\n",
            "(26208, 2)\n"
          ]
        }
      ],
      "source": [
        "# Reshape Data\n",
        "x_train = x_train.reshape(x_train.shape[0], -1)\n",
        "x_test = x_test.reshape(x_test.shape[0], -1)\n",
        "\n",
        "# Preprocessing Data\n",
        "x_train = x_train.astype('float32')\n",
        "x_test = x_test.astype('float32')\n",
        "print(x_train)\n",
        "print(x_train.shape)\n",
        "print(y_train.shape)"
      ]
    },
    {
      "cell_type": "markdown",
      "metadata": {
        "id": "aMnhDZ3sZbo0"
      },
      "source": [
        "Create Model"
      ]
    },
    {
      "cell_type": "code",
      "execution_count": null,
      "metadata": {
        "colab": {
          "base_uri": "https://localhost:8080/"
        },
        "id": "8iQPPedJZepD",
        "outputId": "6f8d45ed-9fd1-4ae3-b0f0-3db4282dc182"
      },
      "outputs": [
        {
          "output_type": "stream",
          "name": "stdout",
          "text": [
            "Model: \"sequential_1\"\n",
            "_________________________________________________________________\n",
            " Layer (type)                Output Shape              Param #   \n",
            "=================================================================\n",
            " dense_5 (Dense)             (None, 128)               384       \n",
            "                                                                 \n",
            " dense_6 (Dense)             (None, 64)                8256      \n",
            "                                                                 \n",
            " dense_7 (Dense)             (None, 32)                2080      \n",
            "                                                                 \n",
            " dense_8 (Dense)             (None, 16)                528       \n",
            "                                                                 \n",
            " dense_9 (Dense)             (None, 2)                 34        \n",
            "                                                                 \n",
            "=================================================================\n",
            "Total params: 11,282\n",
            "Trainable params: 11,282\n",
            "Non-trainable params: 0\n",
            "_________________________________________________________________\n"
          ]
        }
      ],
      "source": [
        "model=Sequential()\n",
        "model.add(Dense(128,kernel_initializer='normal', activation='relu',input_shape=(2,)))\n",
        "model.add(Dense(64,activation='relu'))\n",
        "model.add(Dense(32,activation='relu'))\n",
        "model.add(Dense(16,activation='relu'))\n",
        "model.add(Dense(2,activation='softmax'))\n",
        "model.summary()"
      ]
    },
    {
      "cell_type": "markdown",
      "metadata": {
        "id": "K0WWLenjZ3eI"
      },
      "source": [
        "**Training model**"
      ]
    },
    {
      "cell_type": "code",
      "execution_count": null,
      "metadata": {
        "colab": {
          "base_uri": "https://localhost:8080/"
        },
        "id": "A-rm6KeJZ2zI",
        "outputId": "29c04261-8628-4a56-8003-504d3c4df85e"
      },
      "outputs": [
        {
          "output_type": "stream",
          "name": "stdout",
          "text": [
            "Epoch 1/50\n",
            "656/656 [==============================] - 7s 5ms/step - loss: 0.0751 - accuracy: 0.8869 - val_loss: 0.0726 - val_accuracy: 0.9365\n",
            "Epoch 2/50\n",
            "656/656 [==============================] - 3s 5ms/step - loss: 0.0735 - accuracy: 0.9533 - val_loss: 0.0723 - val_accuracy: 0.9630\n",
            "Epoch 3/50\n",
            "656/656 [==============================] - 3s 5ms/step - loss: 0.0734 - accuracy: 0.9604 - val_loss: 0.0722 - val_accuracy: 0.9699\n",
            "Epoch 4/50\n",
            "656/656 [==============================] - 3s 5ms/step - loss: 0.0733 - accuracy: 0.9676 - val_loss: 0.0722 - val_accuracy: 0.9639\n",
            "Epoch 5/50\n",
            "656/656 [==============================] - 3s 5ms/step - loss: 0.0733 - accuracy: 0.9674 - val_loss: 0.0722 - val_accuracy: 0.9704\n",
            "Epoch 6/50\n",
            "656/656 [==============================] - 3s 5ms/step - loss: 0.0733 - accuracy: 0.9690 - val_loss: 0.0722 - val_accuracy: 0.9674\n",
            "Epoch 7/50\n",
            "656/656 [==============================] - 3s 5ms/step - loss: 0.0733 - accuracy: 0.9724 - val_loss: 0.0722 - val_accuracy: 0.9666\n",
            "Epoch 8/50\n",
            "656/656 [==============================] - 3s 5ms/step - loss: 0.0733 - accuracy: 0.9733 - val_loss: 0.0722 - val_accuracy: 0.9624\n",
            "Epoch 9/50\n",
            "656/656 [==============================] - 3s 5ms/step - loss: 0.0733 - accuracy: 0.9724 - val_loss: 0.0722 - val_accuracy: 0.9739\n",
            "Epoch 10/50\n",
            "656/656 [==============================] - 3s 5ms/step - loss: 0.0733 - accuracy: 0.9736 - val_loss: 0.0722 - val_accuracy: 0.9666\n",
            "Epoch 11/50\n",
            "656/656 [==============================] - 3s 5ms/step - loss: 0.0733 - accuracy: 0.9740 - val_loss: 0.0722 - val_accuracy: 0.9861\n",
            "Epoch 12/50\n",
            "656/656 [==============================] - 4s 7ms/step - loss: 0.0733 - accuracy: 0.9741 - val_loss: 0.0722 - val_accuracy: 0.9792\n",
            "Epoch 13/50\n",
            "656/656 [==============================] - 3s 5ms/step - loss: 0.0733 - accuracy: 0.9781 - val_loss: 0.0722 - val_accuracy: 0.9817\n",
            "Epoch 14/50\n",
            "656/656 [==============================] - 3s 5ms/step - loss: 0.0733 - accuracy: 0.9778 - val_loss: 0.0722 - val_accuracy: 0.9798\n",
            "Epoch 15/50\n",
            "656/656 [==============================] - 3s 5ms/step - loss: 0.0733 - accuracy: 0.9788 - val_loss: 0.0722 - val_accuracy: 0.9767\n",
            "Epoch 16/50\n",
            "656/656 [==============================] - 3s 5ms/step - loss: 0.0733 - accuracy: 0.9745 - val_loss: 0.0722 - val_accuracy: 0.9783\n",
            "Epoch 17/50\n",
            "656/656 [==============================] - 3s 5ms/step - loss: 0.0733 - accuracy: 0.9785 - val_loss: 0.0722 - val_accuracy: 0.9771\n",
            "Epoch 18/50\n",
            "656/656 [==============================] - 3s 5ms/step - loss: 0.0733 - accuracy: 0.9769 - val_loss: 0.0730 - val_accuracy: 0.9122\n",
            "Epoch 19/50\n",
            "656/656 [==============================] - 3s 5ms/step - loss: 0.0733 - accuracy: 0.9724 - val_loss: 0.0722 - val_accuracy: 0.9794\n",
            "Epoch 20/50\n",
            "656/656 [==============================] - 3s 5ms/step - loss: 0.0733 - accuracy: 0.9781 - val_loss: 0.0722 - val_accuracy: 0.9834\n",
            "Epoch 21/50\n",
            "656/656 [==============================] - 3s 5ms/step - loss: 0.0733 - accuracy: 0.9763 - val_loss: 0.0722 - val_accuracy: 0.9828\n",
            "Epoch 22/50\n",
            "656/656 [==============================] - 3s 5ms/step - loss: 0.0733 - accuracy: 0.9784 - val_loss: 0.0722 - val_accuracy: 0.9710\n",
            "Epoch 23/50\n",
            "656/656 [==============================] - 3s 5ms/step - loss: 0.0733 - accuracy: 0.9781 - val_loss: 0.0722 - val_accuracy: 0.9811\n",
            "Epoch 24/50\n",
            "656/656 [==============================] - 3s 5ms/step - loss: 0.0733 - accuracy: 0.9811 - val_loss: 0.0722 - val_accuracy: 0.9857\n",
            "Epoch 25/50\n",
            "656/656 [==============================] - 3s 5ms/step - loss: 0.0733 - accuracy: 0.9757 - val_loss: 0.0722 - val_accuracy: 0.9710\n",
            "Epoch 26/50\n",
            "656/656 [==============================] - 3s 5ms/step - loss: 0.0733 - accuracy: 0.9799 - val_loss: 0.0722 - val_accuracy: 0.9899\n",
            "Epoch 27/50\n",
            "656/656 [==============================] - 3s 5ms/step - loss: 0.0733 - accuracy: 0.9788 - val_loss: 0.0722 - val_accuracy: 0.9824\n",
            "Epoch 28/50\n",
            "656/656 [==============================] - 3s 5ms/step - loss: 0.0733 - accuracy: 0.9809 - val_loss: 0.0721 - val_accuracy: 0.9929\n",
            "Epoch 29/50\n",
            "656/656 [==============================] - 3s 4ms/step - loss: 0.0733 - accuracy: 0.9805 - val_loss: 0.0722 - val_accuracy: 0.9680\n",
            "Epoch 30/50\n",
            "656/656 [==============================] - 3s 5ms/step - loss: 0.0733 - accuracy: 0.9807 - val_loss: 0.0722 - val_accuracy: 0.9842\n",
            "Epoch 31/50\n",
            "656/656 [==============================] - 3s 5ms/step - loss: 0.0733 - accuracy: 0.9810 - val_loss: 0.0721 - val_accuracy: 0.9901\n",
            "Epoch 32/50\n",
            "656/656 [==============================] - 3s 5ms/step - loss: 0.0733 - accuracy: 0.9782 - val_loss: 0.0722 - val_accuracy: 0.9813\n",
            "Epoch 33/50\n",
            "656/656 [==============================] - 3s 5ms/step - loss: 0.0733 - accuracy: 0.9817 - val_loss: 0.0724 - val_accuracy: 0.9372\n",
            "Epoch 34/50\n",
            "656/656 [==============================] - 3s 5ms/step - loss: 0.0733 - accuracy: 0.9793 - val_loss: 0.0722 - val_accuracy: 0.9828\n",
            "Epoch 35/50\n",
            "656/656 [==============================] - 3s 5ms/step - loss: 0.0733 - accuracy: 0.9815 - val_loss: 0.0722 - val_accuracy: 0.9697\n",
            "Epoch 36/50\n",
            "656/656 [==============================] - 3s 5ms/step - loss: 0.0733 - accuracy: 0.9818 - val_loss: 0.0722 - val_accuracy: 0.9729\n",
            "Epoch 37/50\n",
            "656/656 [==============================] - 3s 5ms/step - loss: 0.0733 - accuracy: 0.9799 - val_loss: 0.0722 - val_accuracy: 0.9739\n",
            "Epoch 38/50\n",
            "656/656 [==============================] - 3s 5ms/step - loss: 0.0733 - accuracy: 0.9798 - val_loss: 0.0721 - val_accuracy: 0.9847\n",
            "Epoch 39/50\n",
            "656/656 [==============================] - 3s 5ms/step - loss: 0.0733 - accuracy: 0.9820 - val_loss: 0.0722 - val_accuracy: 0.9773\n",
            "Epoch 40/50\n",
            "656/656 [==============================] - 3s 5ms/step - loss: 0.0733 - accuracy: 0.9798 - val_loss: 0.0722 - val_accuracy: 0.9773\n",
            "Epoch 41/50\n",
            "656/656 [==============================] - 3s 5ms/step - loss: 0.0733 - accuracy: 0.9820 - val_loss: 0.0722 - val_accuracy: 0.9702\n",
            "Epoch 42/50\n",
            "656/656 [==============================] - 3s 5ms/step - loss: 0.0733 - accuracy: 0.9795 - val_loss: 0.0722 - val_accuracy: 0.9901\n",
            "Epoch 43/50\n",
            "656/656 [==============================] - 3s 5ms/step - loss: 0.0733 - accuracy: 0.9823 - val_loss: 0.0722 - val_accuracy: 0.9851\n",
            "Epoch 44/50\n",
            "656/656 [==============================] - 3s 5ms/step - loss: 0.0733 - accuracy: 0.9836 - val_loss: 0.0722 - val_accuracy: 0.9886\n",
            "Epoch 45/50\n",
            "656/656 [==============================] - 3s 5ms/step - loss: 0.0733 - accuracy: 0.9812 - val_loss: 0.0722 - val_accuracy: 0.9796\n",
            "Epoch 46/50\n",
            "656/656 [==============================] - 3s 5ms/step - loss: 0.0733 - accuracy: 0.9824 - val_loss: 0.0721 - val_accuracy: 0.9882\n",
            "Epoch 47/50\n",
            "656/656 [==============================] - 3s 5ms/step - loss: 0.0733 - accuracy: 0.9808 - val_loss: 0.0722 - val_accuracy: 0.9933\n",
            "Epoch 48/50\n",
            "656/656 [==============================] - 3s 5ms/step - loss: 0.0733 - accuracy: 0.9821 - val_loss: 0.0722 - val_accuracy: 0.9737\n",
            "Epoch 49/50\n",
            "656/656 [==============================] - 3s 5ms/step - loss: 0.0733 - accuracy: 0.9821 - val_loss: 0.0722 - val_accuracy: 0.9748\n",
            "Epoch 50/50\n",
            "656/656 [==============================] - 3s 5ms/step - loss: 0.0733 - accuracy: 0.9834 - val_loss: 0.0721 - val_accuracy: 0.9922\n"
          ]
        }
      ],
      "source": [
        "model.compile(loss = 'mse',optimizer = 'Adam', metrics=['accuracy'])\n",
        "history = model.fit(x_train,y_train,batch_size = 32, epochs = 50, verbose = 1, validation_split = 0.2)"
      ]
    },
    {
      "cell_type": "markdown",
      "source": [
        "Drawing Configure"
      ],
      "metadata": {
        "id": "ARJKAua45vN5"
      }
    },
    {
      "cell_type": "code",
      "execution_count": null,
      "metadata": {
        "colab": {
          "base_uri": "https://localhost:8080/",
          "height": 954
        },
        "id": "wdk1i04zfqRR",
        "outputId": "69e9522f-958c-4103-dd07-0ee4ee84ab49"
      },
      "outputs": [
        {
          "output_type": "stream",
          "name": "stdout",
          "text": [
            "[[0.7012991  0.2987009 ]\n",
            " [0.38000962 0.61999035]\n",
            " [0.5832932  0.4167068 ]\n",
            " ...\n",
            " [0.4664745  0.53352547]\n",
            " [0.64402664 0.3559734 ]\n",
            " [0.57392466 0.4260753 ]]\n"
          ]
        },
        {
          "output_type": "stream",
          "name": "stderr",
          "text": [
            "/usr/local/lib/python3.7/dist-packages/ipykernel_launcher.py:12: MatplotlibDeprecationWarning: Unrecognized location 'upper_left'. Falling back on 'best'; valid locations are\n",
            "\tbest\n",
            "\tupper right\n",
            "\tupper left\n",
            "\tlower left\n",
            "\tlower right\n",
            "\tright\n",
            "\tcenter left\n",
            "\tcenter right\n",
            "\tlower center\n",
            "\tupper center\n",
            "\tcenter\n",
            "This will raise an exception in 3.3.\n",
            "  if sys.path[0] == '':\n"
          ]
        },
        {
          "output_type": "display_data",
          "data": {
            "text/plain": [
              "<Figure size 432x288 with 1 Axes>"
            ],
            "image/png": "[encoded data removed]"
          },
          "metadata": {
            "needs_background": "light"
          }
        },
        {
          "output_type": "display_data",
          "data": {
            "text/plain": [
              "<Figure size 432x288 with 1 Axes>"
            ],
            "image/png": "[encoded data removed]"
          },
          "metadata": {
            "needs_background": "light"
          }
        }
      ],
      "source": [
        "score = model.evaluate(x_test,y_test,verbose = 0)\n",
        "y_pred = model.predict(x_test)\n",
        "print(y_pred)\n",
        "pd.DataFrame(history.history)\n",
        "plt.plot(figsize=(8,5))\n",
        "plt.grid(True)\n",
        "plt.plot(history.history['accuracy'])\n",
        "plt.plot(history.history['val_accuracy'])\n",
        "plt.title('Model accuracy')\n",
        "plt.ylabel('Accuracy')\n",
        "plt.xlabel('Epochs')\n",
        "plt.legend(['Train','Validation'],loc='upper_left')\n",
        "plt.show()\n",
        "plt.plot(history.history['loss'])\n",
        "plt.plot(history.history['val_loss'])\n",
        "plt.title('Model error')\n",
        "plt.ylabel('error')\n",
        "plt.xlabel('Epochs')\n",
        "plt.show()"
      ]
    },
    {
      "cell_type": "markdown",
      "source": [
        ""
      ],
      "metadata": {
        "id": "IMQ9Yn2E54HL"
      }
    },
    {
      "cell_type": "code",
      "execution_count": null,
      "metadata": {
        "colab": {
          "base_uri": "https://localhost:8080/"
        },
        "id": "NC86ThuhgEfl",
        "outputId": "7cae8f62-3edc-462a-f22b-288e8f4a14c7"
      },
      "outputs": [
        {
          "output_type": "stream",
          "name": "stdout",
          "text": [
            "Px: 60\n",
            "Py: 50\n",
            "x =  -3.5225638268925437 y =  79.50683485844391\n",
            "67.8954541683197 56.05227291584015\n"
          ]
        }
      ],
      "source": [
        "px_test = (float(input(\"Px: \"))+110.0)/220.0\n",
        "py_test = (float(input(\"Py: \"))+110.0)/220.0\n",
        "test = model.predict([[px_test,py_test]])\n",
        "t1 = test[0][0]*180\n",
        "t2 = test[0][1]*90\n",
        "Px=50*cos(radians(t1))+40*cos(radians(t1+t2))\n",
        "Py=50*sin(radians(t1))+40*sin(radians(t1+t2))\n",
        "print('x = ',Px,'y = ',Py)\n",
        "print(t1,t2)"
      ]
    }
  ],
  "metadata": {
    "accelerator": "GPU",
    "colab": {
      "collapsed_sections": [],
      "name": "robot_2dof.ipynb",
      "provenance": [],
      "include_colab_link": true
    },
    "kernelspec": {
      "display_name": "Python 3",
      "name": "python3"
    },
    "language_info": {
      "name": "python"
    }
  },
  "nbformat": 4,
  "nbformat_minor": 0
}