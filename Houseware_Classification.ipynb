{
  "cells": [
    {
      "cell_type": "markdown",
      "metadata": {
        "id": "view-in-github",
        "colab_type": "text"
      },
      "source": [
        "<a href=\"https://colab.research.google.com/github/BuuMinhDucTran/AI_Robotics/blob/main/Houseware_Classification.ipynb\" target=\"_parent\"><img src=\"https://colab.research.google.com/assets/colab-badge.svg\" alt=\"Open In Colab\"/></a>"
      ]
    },
    {
      "cell_type": "markdown",
      "metadata": {
        "id": "0gt3BxoEfjP1"
      },
      "source": [
        "**1. IMPORT LIBRARY**"
      ]
    },
    {
      "cell_type": "code",
      "execution_count": 1,
      "metadata": {
        "id": "d6E3O3UxfEBs"
      },
      "outputs": [],
      "source": [
        "from keras.models import Sequential\n",
        "from keras.layers import Dense, Activation, Dropout,Flatten,Conv2D,MaxPooling2D\n",
        "from keras.datasets import mnist, fashion_mnist, cifar10, cifar100\n",
        "from tensorflow.keras.optimizers import Adam, RMSprop,SGD\n",
        "from keras.utils import np_utils\n",
        "import cv2\n",
        "import matplotlib.pyplot as plt\n",
        "import numpy as np\n",
        "import tensorflow.compat.v2 as tf\n",
        "from tensorflow import keras\n",
        "import os\n",
        "import pickle\n",
        "import pandas as pd\n",
        "from keras.preprocessing.image import load_img\n",
        "from keras.preprocessing.image import img_to_array\n",
        "from keras.models import load_model\n",
        "from keras.preprocessing import  image\n",
        "from keras.callbacks import EarlyStopping\n",
        "from tensorflow.keras.preprocessing.image import ImageDataGenerator"
      ]
    },
    {
      "cell_type": "markdown",
      "metadata": {
        "id": "B58Cj71TfrAo"
      },
      "source": [
        "**2. CONNECT GOOGLE DRIVE**"
      ]
    },
    {
      "cell_type": "code",
      "execution_count": 2,
      "metadata": {
        "colab": {
          "base_uri": "https://localhost:8080/"
        },
        "id": "q5OWUGP7fyAx",
        "outputId": "b2cd8d63-a969-49ac-f372-2c9a4632eeeb"
      },
      "outputs": [
        {
          "output_type": "stream",
          "name": "stdout",
          "text": [
            "Mounted at /content/drive\n"
          ]
        }
      ],
      "source": [
        "from google.colab import drive\n",
        "drive.mount('/content/drive')"
      ]
    },
    {
      "cell_type": "code",
      "execution_count": null,
      "metadata": {
        "id": "AjBBkTxlnw6d"
      },
      "outputs": [],
      "source": [
        "train_path = '/content/drive/MyDrive/Colab Notebooks/Houseware_Classification'"
      ]
    },
    {
      "cell_type": "markdown",
      "metadata": {
        "id": "7WDjZD4Ef0sY"
      },
      "source": [
        "**3. CREATE DATA**"
      ]
    },
    {
      "cell_type": "code",
      "execution_count": 3,
      "metadata": {
        "colab": {
          "base_uri": "https://localhost:8080/"
        },
        "id": "EipeB86LiVxF",
        "outputId": "f21bcbb9-96f4-4036-b64c-35d3334d395a"
      },
      "outputs": [
        {
          "output_type": "stream",
          "name": "stdout",
          "text": [
            "Found 9795 images belonging to 15 classes.\n",
            "Found 2658 images belonging to 15 classes.\n"
          ]
        }
      ],
      "source": [
        "train=ImageDataGenerator(rescale=1/255)\n",
        "validation=ImageDataGenerator(rescale=1/255)\n",
        "training_set=train.flow_from_directory('/content/drive/MyDrive/Colab Notebooks/Houseware_Classification/train',target_size=(150,150), batch_size=40, class_mode='categorical')\n",
        "validation_set=validation.flow_from_directory('/content/drive/MyDrive/Colab Notebooks/Houseware_Classification/test',target_size=(150,150), batch_size=40, class_mode='categorical')"
      ]
    },
    {
      "cell_type": "markdown",
      "metadata": {
        "id": "gbWEDo9yi19u"
      },
      "source": [
        "**4. PROCESS DATA**"
      ]
    },
    {
      "cell_type": "code",
      "execution_count": 4,
      "metadata": {
        "colab": {
          "base_uri": "https://localhost:8080/"
        },
        "id": "DyArr2ZoizDp",
        "outputId": "a421e804-67cf-4e6b-9ee6-f855730d36f7"
      },
      "outputs": [
        {
          "output_type": "execute_result",
          "data": {
            "text/plain": [
              "{'Blender': 0,\n",
              " 'Broom': 1,\n",
              " 'Brush': 2,\n",
              " 'Cooker': 3,\n",
              " 'Fan': 4,\n",
              " 'Glass': 5,\n",
              " 'Kettle': 6,\n",
              " 'Knife': 7,\n",
              " 'Microwave': 8,\n",
              " 'Pan': 9,\n",
              " 'Plate': 10,\n",
              " 'Refrigerator': 11,\n",
              " 'Spoon': 12,\n",
              " 'Television': 13,\n",
              " 'Washing_Machine': 14}"
            ]
          },
          "metadata": {},
          "execution_count": 4
        }
      ],
      "source": [
        "training_set.class_indices"
      ]
    },
    {
      "cell_type": "code",
      "execution_count": 5,
      "metadata": {
        "colab": {
          "base_uri": "https://localhost:8080/"
        },
        "id": "C4pcfq_d4ExO",
        "outputId": "e3161d4b-e872-4a87-8262-cefc7d3bf13e"
      },
      "outputs": [
        {
          "output_type": "execute_result",
          "data": {
            "text/plain": [
              "{'Blender': 0,\n",
              " 'Broom': 1,\n",
              " 'Brush': 2,\n",
              " 'Cooker': 3,\n",
              " 'Fan': 4,\n",
              " 'Glass': 5,\n",
              " 'Kettle': 6,\n",
              " 'Knife': 7,\n",
              " 'Microwave': 8,\n",
              " 'Pan': 9,\n",
              " 'Plate': 10,\n",
              " 'Refrigerator': 11,\n",
              " 'Spoon': 12,\n",
              " 'Television': 13,\n",
              " 'Washing_Machine': 14}"
            ]
          },
          "metadata": {},
          "execution_count": 5
        }
      ],
      "source": [
        "validation_set.class_indices"
      ]
    },
    {
      "cell_type": "markdown",
      "metadata": {
        "id": "0yCbEmPIjZI-"
      },
      "source": [
        "**5. CREATE MODEL**"
      ]
    },
    {
      "cell_type": "code",
      "execution_count": 8,
      "metadata": {
        "colab": {
          "base_uri": "https://localhost:8080/"
        },
        "id": "xuyoPrEBjZkR",
        "outputId": "dae8b041-4f62-4dd8-aadd-4b0f97f44081"
      },
      "outputs": [
        {
          "output_type": "stream",
          "name": "stdout",
          "text": [
            "Model: \"sequential_1\"\n",
            "_________________________________________________________________\n",
            " Layer (type)                Output Shape              Param #   \n",
            "=================================================================\n",
            " conv2d_3 (Conv2D)           (None, 150, 150, 16)      448       \n",
            "                                                                 \n",
            " max_pooling2d_3 (MaxPooling  (None, 75, 75, 16)       0         \n",
            " 2D)                                                             \n",
            "                                                                 \n",
            " conv2d_4 (Conv2D)           (None, 75, 75, 32)        4640      \n",
            "                                                                 \n",
            " max_pooling2d_4 (MaxPooling  (None, 37, 37, 32)       0         \n",
            " 2D)                                                             \n",
            "                                                                 \n",
            " conv2d_5 (Conv2D)           (None, 37, 37, 64)        18496     \n",
            "                                                                 \n",
            " max_pooling2d_5 (MaxPooling  (None, 18, 18, 64)       0         \n",
            " 2D)                                                             \n",
            "                                                                 \n",
            " conv2d_6 (Conv2D)           (None, 18, 18, 128)       73856     \n",
            "                                                                 \n",
            " max_pooling2d_6 (MaxPooling  (None, 9, 9, 128)        0         \n",
            " 2D)                                                             \n",
            "                                                                 \n",
            " flatten_1 (Flatten)         (None, 10368)             0         \n",
            "                                                                 \n",
            " dense_2 (Dense)             (None, 512)               5308928   \n",
            "                                                                 \n",
            " dense_3 (Dense)             (None, 15)                7695      \n",
            "                                                                 \n",
            "=================================================================\n",
            "Total params: 5,414,063\n",
            "Trainable params: 5,414,063\n",
            "Non-trainable params: 0\n",
            "_________________________________________________________________\n"
          ]
        }
      ],
      "source": [
        "model = Sequential()\n",
        "model.add(Conv2D(16,(3,3),padding='same',kernel_initializer='he_normal',input_shape=(150,150,3)))\n",
        "model.add(MaxPooling2D(pool_size=(2,2)))\n",
        "\n",
        "model.add(Conv2D(32,(3,3),padding='same',kernel_initializer='he_normal'))\n",
        "model.add(MaxPooling2D(pool_size=(2,2)))\n",
        "\n",
        "model.add(Conv2D(64,(3,3),padding='same',kernel_initializer='he_normal'))\n",
        "model.add(MaxPooling2D(pool_size=(2,2)))\n",
        "\n",
        "model.add(Conv2D(128,(3,3),padding='same',kernel_initializer='he_normal'))\n",
        "model.add(MaxPooling2D(pool_size=(2,2)))\n",
        "\n",
        "model.add(Flatten())\n",
        "model.add(Dense(512,activation='relu',kernel_initializer='he_normal'))\n",
        "model.add(Dense(15,activation='softmax'))\n",
        "model.summary()"
      ]
    },
    {
      "cell_type": "markdown",
      "metadata": {
        "id": "WrtWYTirjoOQ"
      },
      "source": [
        "**6. TRAINING MODEL**"
      ]
    },
    {
      "cell_type": "code",
      "execution_count": 9,
      "metadata": {
        "colab": {
          "base_uri": "https://localhost:8080/"
        },
        "id": "wgyTKEY9joyE",
        "outputId": "7da33374-a9f2-4c4c-c330-40ca92763df0"
      },
      "outputs": [
        {
          "output_type": "stream",
          "name": "stdout",
          "text": [
            "Epoch 1/30\n"
          ]
        },
        {
          "output_type": "stream",
          "name": "stderr",
          "text": [
            "/usr/local/lib/python3.7/dist-packages/keras/optimizer_v2/gradient_descent.py:102: UserWarning: The `lr` argument is deprecated, use `learning_rate` instead.\n",
            "  super(SGD, self).__init__(name, **kwargs)\n"
          ]
        },
        {
          "output_type": "stream",
          "name": "stdout",
          "text": [
            " 51/245 [=====>........................] - ETA: 31:21 - loss: 16.3946 - accuracy: 0.1382"
          ]
        },
        {
          "output_type": "stream",
          "name": "stderr",
          "text": [
            "/usr/local/lib/python3.7/dist-packages/PIL/Image.py:960: UserWarning: Palette images with Transparency expressed in bytes should be converted to RGBA images\n",
            "  \"Palette images with Transparency expressed in bytes should be \"\n"
          ]
        },
        {
          "output_type": "stream",
          "name": "stdout",
          "text": [
            "245/245 [==============================] - 2997s 12s/step - loss: 5.3237 - accuracy: 0.2612 - val_loss: 2.2828 - val_accuracy: 0.3100\n",
            "Epoch 2/30\n",
            "245/245 [==============================] - 32s 131ms/step - loss: 1.5253 - accuracy: 0.5359 - val_loss: 1.1537 - val_accuracy: 0.6637\n",
            "Epoch 3/30\n",
            "245/245 [==============================] - 33s 134ms/step - loss: 0.8076 - accuracy: 0.7512 - val_loss: 0.8008 - val_accuracy: 0.7765\n",
            "Epoch 4/30\n",
            "245/245 [==============================] - 32s 131ms/step - loss: 0.3145 - accuracy: 0.9010 - val_loss: 0.6934 - val_accuracy: 0.8378\n",
            "Epoch 5/30\n",
            "245/245 [==============================] - 32s 131ms/step - loss: 0.1520 - accuracy: 0.9571 - val_loss: 1.0313 - val_accuracy: 0.8115\n",
            "Epoch 6/30\n",
            "245/245 [==============================] - 32s 130ms/step - loss: 0.0997 - accuracy: 0.9707 - val_loss: 0.7984 - val_accuracy: 0.8593\n",
            "Epoch 7/30\n",
            "245/245 [==============================] - 32s 130ms/step - loss: 0.0805 - accuracy: 0.9783 - val_loss: 1.1385 - val_accuracy: 0.8461\n",
            "Epoch 8/30\n",
            "245/245 [==============================] - 32s 131ms/step - loss: 0.0641 - accuracy: 0.9827 - val_loss: 1.0585 - val_accuracy: 0.8540\n",
            "Epoch 9/30\n",
            "245/245 [==============================] - 32s 132ms/step - loss: 0.0653 - accuracy: 0.9830 - val_loss: 1.1704 - val_accuracy: 0.8405\n",
            "Epoch 10/30\n",
            "245/245 [==============================] - 32s 131ms/step - loss: 0.0525 - accuracy: 0.9861 - val_loss: 1.2696 - val_accuracy: 0.8491\n",
            "Epoch 11/30\n",
            "245/245 [==============================] - 32s 133ms/step - loss: 0.0494 - accuracy: 0.9885 - val_loss: 1.4059 - val_accuracy: 0.8311\n",
            "Epoch 12/30\n",
            "245/245 [==============================] - 32s 129ms/step - loss: 0.0612 - accuracy: 0.9847 - val_loss: 1.5092 - val_accuracy: 0.8536\n",
            "Epoch 13/30\n",
            "245/245 [==============================] - 32s 129ms/step - loss: 0.0562 - accuracy: 0.9866 - val_loss: 1.6945 - val_accuracy: 0.8416\n",
            "Epoch 14/30\n",
            "245/245 [==============================] - 32s 129ms/step - loss: 0.0621 - accuracy: 0.9871 - val_loss: 1.6936 - val_accuracy: 0.8476\n",
            "Epoch 15/30\n",
            "245/245 [==============================] - 31s 128ms/step - loss: 0.0467 - accuracy: 0.9881 - val_loss: 1.6781 - val_accuracy: 0.8405\n",
            "Epoch 16/30\n",
            "245/245 [==============================] - 31s 128ms/step - loss: 0.0442 - accuracy: 0.9896 - val_loss: 1.6840 - val_accuracy: 0.8503\n",
            "Epoch 17/30\n",
            "245/245 [==============================] - 31s 128ms/step - loss: 0.0521 - accuracy: 0.9890 - val_loss: 1.9836 - val_accuracy: 0.8427\n",
            "Epoch 18/30\n",
            "245/245 [==============================] - 32s 129ms/step - loss: 0.0520 - accuracy: 0.9895 - val_loss: 2.0786 - val_accuracy: 0.8469\n",
            "Epoch 19/30\n",
            "245/245 [==============================] - 32s 130ms/step - loss: 0.0417 - accuracy: 0.9895 - val_loss: 2.3681 - val_accuracy: 0.8473\n"
          ]
        }
      ],
      "source": [
        "from PIL import ImageFile\n",
        "ImageFile.LOAD_TRUNCATED_IMAGES = True\n",
        "opt = SGD(lr=0.01, momentum=0.9)\n",
        "model.compile(optimizer=RMSprop(),loss='categorical_crossentropy',  metrics=['accuracy'])\n",
        "history = model.fit(training_set, epochs = 30, validation_data = validation_set, verbose=1, callbacks=[EarlyStopping(monitor='val_loss', patience=15)])"
      ]
    },
    {
      "cell_type": "markdown",
      "metadata": {
        "id": "EkGWGNIfl5yY"
      },
      "source": [
        "**7. DRAWING FIGURE**"
      ]
    },
    {
      "cell_type": "code",
      "execution_count": null,
      "metadata": {
        "colab": {
          "base_uri": "https://localhost:8080/",
          "height": 337
        },
        "id": "j0sN-wycj0ZR",
        "outputId": "f7e1ff62-f83d-474b-9465-edef759a8030"
      },
      "outputs": [
        {
          "data": {
            "image/png": "[encoded data removed]",
            "text/plain": [
              "<Figure size 432x288 with 1 Axes>"
            ]
          },
          "metadata": {},
          "output_type": "display_data"
        },
        {
          "data": {
            "image/png": "[encoded data removed]",
            "text/plain": [
              "<Figure size 432x288 with 1 Axes>"
            ]
          },
          "metadata": {},
          "output_type": "display_data"
        }
      ],
      "source": [
        "#Drawing Loss\n",
        "plt.subplot(2,1,1)\n",
        "plt.plot(history.history['loss'])\n",
        "plt.plot(history.history['val_loss'])\n",
        "plt.title('Model Loss')\n",
        "plt.ylabel('Loss')\n",
        "plt.xlabel('Epoch')\n",
        "plt.legend(['train','validation'])\n",
        "plt.show()\n",
        "#Drawing Accuracy\n",
        "plt.subplot(2,1,2)\n",
        "plt.plot(history.history['accuracy'])\n",
        "plt.plot(history.history['val_accuracy'])\n",
        "plt.title('Model Accuracy')\n",
        "plt.ylabel('Accuracy')\n",
        "plt.xlabel('Epoch')\n",
        "plt.legend(['train','validation'])\n",
        "plt.show()"
      ]
    },
    {
      "cell_type": "code",
      "execution_count": 10,
      "metadata": {
        "colab": {
          "base_uri": "https://localhost:8080/"
        },
        "id": "Q_dy-rYGwat2",
        "outputId": "14ea13e3-6294-4d1d-d1cd-6615373d3fdb"
      },
      "outputs": [
        {
          "output_type": "stream",
          "name": "stdout",
          "text": [
            "Loss = 2.368124485015869\n",
            "Accuracy = 0.8472535610198975 \n"
          ]
        }
      ],
      "source": [
        "score = model.evaluate(validation_set, verbose=0)\n",
        "print(\"Loss = {}\".format(score[0]))\n",
        "print(\"Accuracy = {} \".format( score[1]))"
      ]
    },
    {
      "cell_type": "markdown",
      "metadata": {
        "id": "TGtxOUnB-vRQ"
      },
      "source": [
        "**8. SAVE MODEL**"
      ]
    },
    {
      "cell_type": "code",
      "execution_count": 20,
      "metadata": {
        "id": "co3zsUMk-Q5G"
      },
      "outputs": [],
      "source": [
        "model.save('Houseware.h5')\n",
        "Houseware =load_model('Houseware.h5')"
      ]
    },
    {
      "cell_type": "markdown",
      "metadata": {
        "id": "GEkA0gp6-8H_"
      },
      "source": [
        "9 .CLASSIFICATION"
      ]
    },
    {
      "cell_type": "code",
      "execution_count": 21,
      "metadata": {
        "colab": {
          "base_uri": "https://localhost:8080/",
          "height": 325
        },
        "id": "J4oYdpi6-9JM",
        "outputId": "465a65c6-c7e2-42d8-9384-0f945bb21d2c"
      },
      "outputs": [
        {
          "output_type": "stream",
          "name": "stdout",
          "text": [
            "WARNING:tensorflow:5 out of the last 7 calls to <function Model.make_predict_function.<locals>.predict_function at 0x7fb0f6111a70> triggered tf.function retracing. Tracing is expensive and the excessive number of tracings could be due to (1) creating @tf.function repeatedly in a loop, (2) passing tensors with different shapes, (3) passing Python objects instead of tensors. For (1), please define your @tf.function outside of the loop. For (2), @tf.function has experimental_relax_shapes=True option that relaxes argument shapes that can avoid unnecessary retracing. For (3), please refer to https://www.tensorflow.org/guide/function#controlling_retracing and https://www.tensorflow.org/api_docs/python/tf/function for  more details.\n",
            "This is Microwave is in a kitchen\n"
          ]
        },
        {
          "output_type": "display_data",
          "data": {
            "text/plain": [
              "<Figure size 432x288 with 1 Axes>"
            ],
            "image/png": "[encoded data removed]"
          },
          "metadata": {
            "needs_background": "light"
          }
        }
      ],
      "source": [
        "img = image.load_img('lò.jpg', target_size=(150,150)) \n",
        "plt.imshow(img)\n",
        "img = img_to_array(img)\n",
        "img = img.reshape(1,150,150,3) \n",
        "img = img.astype('float32')\n",
        "img = img/255\n",
        "Houseware=np.argmax(Houseware.predict(img),axis=1)\n",
        "pred = model.predict(img)\n",
        "classes = ['Blender','Broom','Brush','Cooker','Fan','Glass','Kettle','Knife','Microwave','Pan','Plate','Refrigerator','Spoon','Television','Washing_Machine']\n",
        "position = ['kitchen','bathroom','living room','dining room']\n",
        "#print(np.argmax(pred))\n",
        "if Houseware==0: print(\"This is\" ,classes[0],\"is in a\" ,position[0])\n",
        "elif Houseware==1: print(\"This is\" ,classes[1],\"is in a\" ,position[0])\n",
        "elif Houseware==2: print(\"This is\" ,classes[2],\"is in a\" ,position[1])\n",
        "elif Houseware==3: print(\"This is\" ,classes[3],\"is in a\" ,position[0])\n",
        "elif Houseware==4: print(\"This is\" ,classes[4],\"is in a\" ,position[2])\n",
        "elif Houseware==5: print(\"This is\" ,classes[5],\"is in a\" ,position[3])\n",
        "elif Houseware==6: print(\"This is\" ,classes[6],\"is in a\" ,position[0])\n",
        "elif Houseware==7: print(\"This is\" ,classes[7],\"is in a\" ,position[0])\n",
        "elif Houseware==8: print(\"This is\" ,classes[8],\"is in a\" ,position[0])\n",
        "elif Houseware==9: print(\"This is\" ,classes[9],\"is in a\" ,position[0])\n",
        "elif Houseware==10: print(\"This is\" ,classes[10],\"is in a\" ,position[3])\n",
        "elif Houseware==11: print(\"This is\" ,classes[11],\"is in a\" ,position[0])\n",
        "elif Houseware==12: print(\"This is\" ,classes[12],\"is in a\" ,position[3])\n",
        "elif Houseware==13: print(\"This is\" ,classes[13],\"is in a\" ,position[2])\n",
        "elif Houseware==14: print(\"This is\" ,classes[14],\"is in a\" ,position[1])"
      ]
    },
    {
      "cell_type": "code",
      "execution_count": null,
      "metadata": {
        "id": "sk46Rj6Zo3g3"
      },
      "outputs": [],
      "source": [
        "from tensorflow.keras.models import load_model\n",
        "import cv2\n",
        "import numpy as np\n",
        "from google.colab.patches import cv2_imshow\n",
        "from opencv_jupyter_ui import cv2_imshow\n",
        "\n",
        "\n",
        "model = load_model('Houseware.h5')\n",
        "name_label = ['Blender','Broom','Brush','Cooker','Fan','Glass','Kettle','Knife','Microwave','Pan','Plate','Refrigerator','Spoon','Television','Washing_Machine']\n",
        "\n",
        "video_capture = cv2.VideoCapture('RealTimeClassification.mp4')\n",
        "\n",
        "while True:\n",
        "    ret, frame = video_capture.read()\n",
        "    if not ret:\n",
        "        break\n",
        "    frame = cv2.resize(frame, (150, 150))\n",
        "    frame = np.expand_dims(frame, axis=0)\n",
        "    frame = frame.astype(np.float32)\n",
        "    frame = frame / 255.0\n",
        "    \n",
        "    pred = model.predict(frame)\n",
        "    pred = np.argmax(pred, axis=1)\n",
        "    pred = name_label[pred[0]]\n",
        "    print(pred)\n",
        "\n",
        "    cv2_imshow('frame', frame[0])\n",
        "    if cv2.waitKey(1) & 0xFF == ord('q'):\n",
        "        break\n",
        "\n",
        "video_capture.release()\n",
        "cv2.destroyAllWindows()"
      ]
    },
    {
      "cell_type": "code",
      "execution_count": 22,
      "metadata": {
        "id": "UQUV1XFbHKGM"
      },
      "outputs": [],
      "source": [
        "from IPython.display import display, Javascript, Image\n",
        "# JavaScript to properly create our live video stream using our webcam as input\n",
        "\n",
        "def video_stream():\n",
        "  js = Javascript('''\n",
        "    var video;\n",
        "    var div = null;\n",
        "    var stream;\n",
        "    var captureCanvas;\n",
        "    var imgElement;\n",
        "    var labelElement;\n",
        "    \n",
        "    var pendingResolve = null;\n",
        "    var shutdown = false;\n",
        "    function removeDom() {\n",
        "       stream.getVideoTracks()[0].stop();\n",
        "       video.remove();\n",
        "       div.remove();\n",
        "       video = null;\n",
        "       div = null;\n",
        "       stream = null;\n",
        "       imgElement = null;\n",
        "       captureCanvas = null;\n",
        "       labelElement = null;\n",
        "    }\n",
        "    \n",
        "    function onAnimationFrame() {\n",
        "      if (!shutdown) {\n",
        "        window.requestAnimationFrame(onAnimationFrame);\n",
        "      }\n",
        "      if (pendingResolve) {\n",
        "        var result = \"\";\n",
        "        if (!shutdown) {\n",
        "          captureCanvas.getContext('2d').drawImage(video, 0, 0, 640, 480);\n",
        "          result = captureCanvas.toDataURL('image/jpeg', 0.8)\n",
        "        }\n",
        "        var lp = pendingResolve;\n",
        "        pendingResolve = null;\n",
        "        lp(result);\n",
        "      }\n",
        "    }\n",
        "        async function createDom() {\n",
        "      if (div !== null) {\n",
        "        return stream;\n",
        "      }\n",
        "\n",
        "      div = document.createElement('div');\n",
        "      div.style.border = '2px solid black';\n",
        "      div.style.padding = '3px';\n",
        "      div.style.width = '100%';\n",
        "      div.style.maxWidth = '600px';\n",
        "      document.body.appendChild(div);\n",
        "      \n",
        "      const modelOut = document.createElement('div');\n",
        "      modelOut.innerHTML = \"<span>Status:</span>\";\n",
        "      labelElement = document.createElement('span');\n",
        "      labelElement.innerText = 'No data';\n",
        "      labelElement.style.fontWeight = 'bold';\n",
        "      modelOut.appendChild(labelElement);\n",
        "      div.appendChild(modelOut);\n",
        "           \n",
        "      video = document.createElement('video');\n",
        "      video.style.display = 'block';\n",
        "      video.width = div.clientWidth - 6;\n",
        "      video.setAttribute('playsinline', '');\n",
        "      video.onclick = () => { shutdown = true; };\n",
        "      stream = await navigator.mediaDevices.getUserMedia({video: { facingMode: \"environment\"}});\n",
        "      div.appendChild(video);\n",
        "\n",
        "      imgElement = document.createElement('img');\n",
        "      imgElement.style.position = 'absolute';\n",
        "      imgElement.style.zIndex = 1;\n",
        "      imgElement.onclick = () => { shutdown = true; };\n",
        "      div.appendChild(imgElement);\n",
        "      \n",
        "      const instruction = document.createElement('div');\n",
        "      instruction.innerHTML = \n",
        "      '<span style=\"color: red; font-weight: bold;\">' +\n",
        "      'Bấm vào video để dừng</span>';\n",
        "      div.appendChild(instruction);\n",
        "      instruction.onclick = () => { shutdown = true; };\n",
        "      \n",
        "      video.srcObject = stream;\n",
        "      await video.play();\n",
        "\n",
        "      captureCanvas = document.createElement('canvas');\n",
        "      captureCanvas.width = 640; //video.videoWidth;\n",
        "      captureCanvas.height = 480; //video.videoHeight;\n",
        "      window.requestAnimationFrame(onAnimationFrame);\n",
        "      \n",
        "      return stream;\n",
        "    }\n",
        "    async function stream_frame(label, imgData) {\n",
        "      if (shutdown) {\n",
        "        removeDom();\n",
        "        shutdown = false;\n",
        "        return '';\n",
        "      }\n",
        "\n",
        "      var preCreate = Date.now();\n",
        "      stream = await createDom();\n",
        "      \n",
        "      var preShow = Date.now();\n",
        "      if (label != \"\") {\n",
        "        labelElement.innerHTML = label;\n",
        "      }\n",
        "            \n",
        "      if (imgData != \"\") {\n",
        "        var videoRect = video.getClientRects()[0];\n",
        "        imgElement.style.top = videoRect.top + \"px\";\n",
        "        imgElement.style.left = videoRect.left + \"px\";\n",
        "        imgElement.style.width = videoRect.width + \"px\";\n",
        "        imgElement.style.height = videoRect.height + \"px\";\n",
        "        imgElement.src = imgData;\n",
        "      }\n",
        "      \n",
        "      var preCapture = Date.now();\n",
        "      var result = await new Promise(function(resolve, reject) {\n",
        "        pendingResolve = resolve;\n",
        "      });\n",
        "      shutdown = false;\n",
        "       return {'create': preShow - preCreate, \n",
        "              'show': preCapture - preShow, \n",
        "              'capture': Date.now() - preCapture,\n",
        "              'img': result};\n",
        "    }\n",
        "    ''')\n",
        "\n",
        "  display(js)\n",
        "  \n",
        "def video_frame(label, bbox):\n",
        "  data = eval_js('stream_frame(\"{}\", \"{}\")'.format(label, bbox))\n",
        "  return data"
      ]
    },
    {
      "cell_type": "code",
      "execution_count": 23,
      "metadata": {
        "id": "CoBjXTeoIhDZ"
      },
      "outputs": [],
      "source": [
        "def js_to_image(js_reply):\n",
        "  \"\"\"\n",
        "  Params:\n",
        "          js_reply: JavaScript object containing image from webcam\n",
        "  Returns:\n",
        "          img: OpenCV BGR image\n",
        "  \"\"\"\n",
        "  # decode base64 image\n",
        "  image_bytes = b64decode(js_reply.split(',')[1])\n",
        "  # convert bytes to numpy array\n",
        "  jpg_as_np = np.frombuffer(image_bytes, dtype=np.uint8)\n",
        "  # decode numpy array into OpenCV BGR image\n",
        "  img = cv2.imdecode(jpg_as_np, flags=1)\n",
        "\n",
        "  return img\n",
        "\n",
        "# function to convert OpenCV Rectangle bounding box image into base64 byte string to be overlayed on video stream\n",
        "def bbox_to_bytes(bbox_array):\n",
        "  \"\"\"\n",
        "  Params:\n",
        "          bbox_array: Numpy array (pixels) containing rectangle to overlay on video stream.\n",
        "  Returns:\n",
        "        bytes: Base64 image byte string\n",
        "  \"\"\"\n",
        "  # convert array into PIL image\n",
        "  bbox_PIL = PIL.Image.fromarray(bbox_array, 'RGBA')\n",
        "  iobuf = io.BytesIO()\n",
        "  # format bbox into png for return\n",
        "  bbox_PIL.save(iobuf, format='png')\n",
        "  # format return string\n",
        "  bbox_bytes = 'data:image/png;base64,{}'.format((str(b64encode(iobuf.getvalue()), 'utf-8')))\n",
        "\n",
        "  return bbox_bytes"
      ]
    },
    {
      "cell_type": "code",
      "execution_count": null,
      "metadata": {
        "id": "nVP57S3aHLoQ"
      },
      "outputs": [],
      "source": [
        "from google.colab.output import eval_js\n",
        "from google.colab.patches import cv2_imshow\n",
        "from base64 import b64decode, b64encode\n",
        "import numpy as np\n",
        "import PIL\n",
        "import io\n",
        "import cv2\n",
        "from keras.models import  load_model\n",
        "\n",
        "# start streaming video from webcam\n",
        "video_stream()\n",
        "# label for video\n",
        "label_html = 'Receiving Images...'\n",
        "# initialze bounding box to empty\n",
        "bbox = ''\n",
        "count = 0 \n",
        "\n",
        "# Load model phân loại đồ gia dụng\n",
        "model_file_path = \"Houseware.h5\"\n",
        "vggmodel = load_model(model_file_path)\n",
        "\n",
        "classes = ['Blender','Broom','Brush','Cooker','Fan','Glass','Kettle','Knife','Microwave','Pan','Plate','Refrigerator','Spoon','Television','Washing_Machine']\n",
        "\n",
        "while True:\n",
        "    # Đọc ảnh trả về từ JS\n",
        "    js_reply = video_frame(label_html, bbox)\n",
        "    if not js_reply:\n",
        "        break\n",
        "\n",
        "    # convert JS response to OpenCV Image\n",
        "    frame = js_to_image(js_reply[\"img\"])\n",
        "\n",
        "    # Resize để đưa vào model\n",
        "    frame_p = cv2.resize(frame, dsize=(150,150))\n",
        "    tensor = np.expand_dims(frame_p, axis=0)\n",
        "    # Feed vào mạng\n",
        "    pred = vggmodel.predict(tensor)\n",
        "    class_id = np.argmax(pred)\n",
        "    class_name = classes[class_id]\n",
        "\n",
        "    # create transparent overlay for bounding box\n",
        "    bbox_array = np.zeros([480,640,4], dtype=np.uint8)\n",
        "   \n",
        "    bbox_array = cv2.putText(bbox_array, \"{}\".format(class_name),\n",
        "                        (10, 20), cv2.FONT_HERSHEY_SIMPLEX, 0.5,\n",
        "                        (0, 255,0), 2)\n",
        "\n",
        "    bbox_array[:,:,3] = (bbox_array.max(axis = 2) > 0 ).astype(int) * 255\n",
        "    # convert overlay of bbox into bytes\n",
        "    bbox_bytes = bbox_to_bytes(bbox_array)\n",
        "    # update bbox so next frame gets new overlay\n",
        "    bbox = bbox_bytes\n"
      ]
    },
    {
      "cell_type": "code",
      "execution_count": null,
      "metadata": {
        "id": "m47yI995Ibwn"
      },
      "outputs": [],
      "source": [
        ""
      ]
    }
  ],
  "metadata": {
    "accelerator": "GPU",
    "colab": {
      "collapsed_sections": [],
      "name": "Houseware_Classification.ipynb",
      "provenance": [],
      "authorship_tag": "ABX9TyP5+QZwuuK7j5aNvM1mTHPq",
      "include_colab_link": true
    },
    "gpuClass": "standard",
    "kernelspec": {
      "display_name": "Python 3",
      "name": "python3"
    },
    "language_info": {
      "name": "python"
    }
  },
  "nbformat": 4,
  "nbformat_minor": 0
}
